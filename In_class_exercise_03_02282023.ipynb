{
  "cells": [
    {
      "cell_type": "markdown",
      "metadata": {
        "id": "view-in-github",
        "colab_type": "text"
      },
      "source": [
        "<a href=\"https://colab.research.google.com/github/Pavanvarma007/-Pavan_INFO5731_Spring2023/blob/main/In_class_exercise_03_02282023.ipynb\" target=\"_parent\"><img src=\"https://colab.research.google.com/assets/colab-badge.svg\" alt=\"Open In Colab\"/></a>"
      ]
    },
    {
      "cell_type": "markdown",
      "metadata": {
        "id": "v8yq8ztJZMq0"
      },
      "source": [
        "## The third In-class-exercise (2/28/2023, 40 points in total)"
      ]
    },
    {
      "cell_type": "markdown",
      "metadata": {
        "id": "_RihlDxQZMq6"
      },
      "source": [
        "The purpose of this exercise is to understand text representation."
      ]
    },
    {
      "cell_type": "markdown",
      "metadata": {
        "id": "iHN_Hog9ZMq7"
      },
      "source": [
        "Question 1 (10 points): Describe an interesting text classification or text mining task and explain what kind of features might be useful for you to build the machine learning model. List your features and explain why these features might be helpful. You need to list at least five different types of features."
      ]
    },
    {
      "cell_type": "markdown",
      "source": [
        "## Now a days it is imporatant to know whether the received mail is spam or not because most of the people did cheating on inncoent people through this spam mails.In present world their are plenty of model existed in the world to classify the spam mails but none of them give an 100% accuracy most of the times the mails which are not spam also classifies as spam which result in loss information example i didnt attend one of my interview because the meeting schedule it classifies as spam so i didnt see the details of it. For this task worlds related to spam or cheating words are consider to be features. As of my knowledge features like risk, subject, research,call, price, finance,"
      ],
      "metadata": {
        "id": "Ev-oC53MlhKE"
      }
    },
    {
      "cell_type": "markdown",
      "metadata": {
        "id": "1ZT3ceSVZMq-"
      },
      "source": [
        "Question 2 (10 points): Write python code to extract these features you discussed above. You can collect a few sample text data for the feature extraction. "
      ]
    },
    {
      "cell_type": "markdown",
      "source": [
        "In order to get the text here i am using the email-spam dataset from https://github.com/OmkarPathak/Playing-with-datasets/blob/master/Email%20Spam%20Filtering/emails.csv \n"
      ],
      "metadata": {
        "id": "fDXrsFH0ZMq_"
      }
    },
    {
      "cell_type": "code",
      "source": [
        "from google.colab import files\n",
        "uploaded = files.upload()"
      ],
      "metadata": {
        "colab": {
          "base_uri": "https://localhost:8080/",
          "height": 38
        },
        "id": "WCVNIQKdqugw",
        "outputId": "2e82c4f8-71b5-467f-e503-cc0dfe1cc343"
      },
      "execution_count": null,
      "outputs": [
        {
          "output_type": "display_data",
          "data": {
            "text/plain": [
              "<IPython.core.display.HTML object>"
            ],
            "text/html": [
              "\n",
              "     <input type=\"file\" id=\"files-d64de044-48aa-448b-93ac-81fec4befe6f\" name=\"files[]\" multiple disabled\n",
              "        style=\"border:none\" />\n",
              "     <output id=\"result-d64de044-48aa-448b-93ac-81fec4befe6f\">\n",
              "      Upload widget is only available when the cell has been executed in the\n",
              "      current browser session. Please rerun this cell to enable.\n",
              "      </output>\n",
              "      <script>// Copyright 2017 Google LLC\n",
              "//\n",
              "// Licensed under the Apache License, Version 2.0 (the \"License\");\n",
              "// you may not use this file except in compliance with the License.\n",
              "// You may obtain a copy of the License at\n",
              "//\n",
              "//      http://www.apache.org/licenses/LICENSE-2.0\n",
              "//\n",
              "// Unless required by applicable law or agreed to in writing, software\n",
              "// distributed under the License is distributed on an \"AS IS\" BASIS,\n",
              "// WITHOUT WARRANTIES OR CONDITIONS OF ANY KIND, either express or implied.\n",
              "// See the License for the specific language governing permissions and\n",
              "// limitations under the License.\n",
              "\n",
              "/**\n",
              " * @fileoverview Helpers for google.colab Python module.\n",
              " */\n",
              "(function(scope) {\n",
              "function span(text, styleAttributes = {}) {\n",
              "  const element = document.createElement('span');\n",
              "  element.textContent = text;\n",
              "  for (const key of Object.keys(styleAttributes)) {\n",
              "    element.style[key] = styleAttributes[key];\n",
              "  }\n",
              "  return element;\n",
              "}\n",
              "\n",
              "// Max number of bytes which will be uploaded at a time.\n",
              "const MAX_PAYLOAD_SIZE = 100 * 1024;\n",
              "\n",
              "function _uploadFiles(inputId, outputId) {\n",
              "  const steps = uploadFilesStep(inputId, outputId);\n",
              "  const outputElement = document.getElementById(outputId);\n",
              "  // Cache steps on the outputElement to make it available for the next call\n",
              "  // to uploadFilesContinue from Python.\n",
              "  outputElement.steps = steps;\n",
              "\n",
              "  return _uploadFilesContinue(outputId);\n",
              "}\n",
              "\n",
              "// This is roughly an async generator (not supported in the browser yet),\n",
              "// where there are multiple asynchronous steps and the Python side is going\n",
              "// to poll for completion of each step.\n",
              "// This uses a Promise to block the python side on completion of each step,\n",
              "// then passes the result of the previous step as the input to the next step.\n",
              "function _uploadFilesContinue(outputId) {\n",
              "  const outputElement = document.getElementById(outputId);\n",
              "  const steps = outputElement.steps;\n",
              "\n",
              "  const next = steps.next(outputElement.lastPromiseValue);\n",
              "  return Promise.resolve(next.value.promise).then((value) => {\n",
              "    // Cache the last promise value to make it available to the next\n",
              "    // step of the generator.\n",
              "    outputElement.lastPromiseValue = value;\n",
              "    return next.value.response;\n",
              "  });\n",
              "}\n",
              "\n",
              "/**\n",
              " * Generator function which is called between each async step of the upload\n",
              " * process.\n",
              " * @param {string} inputId Element ID of the input file picker element.\n",
              " * @param {string} outputId Element ID of the output display.\n",
              " * @return {!Iterable<!Object>} Iterable of next steps.\n",
              " */\n",
              "function* uploadFilesStep(inputId, outputId) {\n",
              "  const inputElement = document.getElementById(inputId);\n",
              "  inputElement.disabled = false;\n",
              "\n",
              "  const outputElement = document.getElementById(outputId);\n",
              "  outputElement.innerHTML = '';\n",
              "\n",
              "  const pickedPromise = new Promise((resolve) => {\n",
              "    inputElement.addEventListener('change', (e) => {\n",
              "      resolve(e.target.files);\n",
              "    });\n",
              "  });\n",
              "\n",
              "  const cancel = document.createElement('button');\n",
              "  inputElement.parentElement.appendChild(cancel);\n",
              "  cancel.textContent = 'Cancel upload';\n",
              "  const cancelPromise = new Promise((resolve) => {\n",
              "    cancel.onclick = () => {\n",
              "      resolve(null);\n",
              "    };\n",
              "  });\n",
              "\n",
              "  // Wait for the user to pick the files.\n",
              "  const files = yield {\n",
              "    promise: Promise.race([pickedPromise, cancelPromise]),\n",
              "    response: {\n",
              "      action: 'starting',\n",
              "    }\n",
              "  };\n",
              "\n",
              "  cancel.remove();\n",
              "\n",
              "  // Disable the input element since further picks are not allowed.\n",
              "  inputElement.disabled = true;\n",
              "\n",
              "  if (!files) {\n",
              "    return {\n",
              "      response: {\n",
              "        action: 'complete',\n",
              "      }\n",
              "    };\n",
              "  }\n",
              "\n",
              "  for (const file of files) {\n",
              "    const li = document.createElement('li');\n",
              "    li.append(span(file.name, {fontWeight: 'bold'}));\n",
              "    li.append(span(\n",
              "        `(${file.type || 'n/a'}) - ${file.size} bytes, ` +\n",
              "        `last modified: ${\n",
              "            file.lastModifiedDate ? file.lastModifiedDate.toLocaleDateString() :\n",
              "                                    'n/a'} - `));\n",
              "    const percent = span('0% done');\n",
              "    li.appendChild(percent);\n",
              "\n",
              "    outputElement.appendChild(li);\n",
              "\n",
              "    const fileDataPromise = new Promise((resolve) => {\n",
              "      const reader = new FileReader();\n",
              "      reader.onload = (e) => {\n",
              "        resolve(e.target.result);\n",
              "      };\n",
              "      reader.readAsArrayBuffer(file);\n",
              "    });\n",
              "    // Wait for the data to be ready.\n",
              "    let fileData = yield {\n",
              "      promise: fileDataPromise,\n",
              "      response: {\n",
              "        action: 'continue',\n",
              "      }\n",
              "    };\n",
              "\n",
              "    // Use a chunked sending to avoid message size limits. See b/62115660.\n",
              "    let position = 0;\n",
              "    do {\n",
              "      const length = Math.min(fileData.byteLength - position, MAX_PAYLOAD_SIZE);\n",
              "      const chunk = new Uint8Array(fileData, position, length);\n",
              "      position += length;\n",
              "\n",
              "      const base64 = btoa(String.fromCharCode.apply(null, chunk));\n",
              "      yield {\n",
              "        response: {\n",
              "          action: 'append',\n",
              "          file: file.name,\n",
              "          data: base64,\n",
              "        },\n",
              "      };\n",
              "\n",
              "      let percentDone = fileData.byteLength === 0 ?\n",
              "          100 :\n",
              "          Math.round((position / fileData.byteLength) * 100);\n",
              "      percent.textContent = `${percentDone}% done`;\n",
              "\n",
              "    } while (position < fileData.byteLength);\n",
              "  }\n",
              "\n",
              "  // All done.\n",
              "  yield {\n",
              "    response: {\n",
              "      action: 'complete',\n",
              "    }\n",
              "  };\n",
              "}\n",
              "\n",
              "scope.google = scope.google || {};\n",
              "scope.google.colab = scope.google.colab || {};\n",
              "scope.google.colab._files = {\n",
              "  _uploadFiles,\n",
              "  _uploadFilesContinue,\n",
              "};\n",
              "})(self);\n",
              "</script> "
            ]
          },
          "metadata": {}
        }
      ]
    },
    {
      "cell_type": "code",
      "source": [
        "import pandas as pd\n",
        "import pandas as pd\n",
        "from nltk.corpus import stopwords\n",
        "import string\n",
        "from nltk.tokenize import word_tokenize\n",
        "import nltk\n",
        "nltk.download('punkt')\n",
        "nltk.download('stopwords')\n",
        "import matplotlib.pyplot as plt\n",
        "from collections import Counter \n",
        "df = pd.read_csv('email-spam.csv')\n",
        "df"
      ],
      "metadata": {
        "id": "MocGFlKXquiE"
      },
      "execution_count": null,
      "outputs": []
    },
    {
      "cell_type": "markdown",
      "source": [
        "From the above dataframe it is observed that spam 1 represent the mail is spam and opposite in case of spam 0. Here text start with subject indicates that it is the subject of the mail which will removed in text classification in below steps."
      ],
      "metadata": {
        "id": "pIh8CYNLqumS"
      }
    },
    {
      "cell_type": "code",
      "source": [
        "df = df.drop_duplicates(ignore_index=True)"
      ],
      "metadata": {
        "id": "YmxtNEDCqunm"
      },
      "execution_count": null,
      "outputs": []
    },
    {
      "cell_type": "code",
      "source": [
        "stop_word = stopwords.words('english')\n",
        "stop_word += ['com', 'ect', 'www', 'email', 'one', 'two', 'shall', 'will','muzo','edt','cds','sav','ong','vnbl','pll','dik','btu','shl','wiil','eet','mmjx','spfa','may','could','like','may','hou','edu','ees','also','let','get','much','give','make','want','know','http','would','take','need']\n",
        "p = ['0','1','2','3','4','5','6','7','8','9']\n",
        "def text_manipulation(text): #text cleaning \n",
        "    text = text.lower() #text lowering\n",
        "    text = text.split(\":\", 1)[1]\n",
        "    tokenzie_text = word_tokenize(text)\n",
        "    without_punt = [word for word in tokenzie_text if word not in string.punctuation] #removing puctuncations\n",
        "    without_stop_w = [word for word in without_punt if word not in stop_word] # removing stop_words\n",
        "    without_num = []\n",
        "    for word in without_stop_w: #forloop for removing the digits\n",
        "        if word.isdigit():\n",
        "            continue\n",
        "        if word.isalnum():\n",
        "            word = list(word)\n",
        "            words = [i for i in word if i not in p]\n",
        "            word = ''.join(words)\n",
        "            without_num.append(word)\n",
        "        else:\n",
        "            without_num.append(word)\n",
        "    without_len1_2 = [word for word in without_num if len(word) >=3]\n",
        "    return without_len1_2\n",
        "        "
      ],
      "metadata": {
        "id": "9jpzNjP3qurf"
      },
      "execution_count": null,
      "outputs": []
    },
    {
      "cell_type": "code",
      "source": [
        "df['text'] = df['text'].apply(text_manipulation)"
      ],
      "metadata": {
        "id": "p_S2exOzqutc"
      },
      "execution_count": null,
      "outputs": []
    },
    {
      "cell_type": "code",
      "source": [
        "vocubulary = Counter()\n",
        "for word_list in df['text']: #for loop for getting the count of each words\n",
        "    for word in word_list:\n",
        "        vocubulary[word] += 1   \n",
        "print(vocubulary.keys())"
      ],
      "metadata": {
        "id": "eo0lMwPkquxa"
      },
      "execution_count": null,
      "outputs": []
    },
    {
      "cell_type": "markdown",
      "source": [
        "Here  iam repersenting the text using the bag-of-words. As a result i got this fetaures from the "
      ],
      "metadata": {
        "id": "2cBFidvRsawO"
      }
    },
    {
      "cell_type": "code",
      "source": [
        "print(\"Features : \", vocubulary.keys()) # features from the text"
      ],
      "metadata": {
        "id": "9k_4deZStIkr"
      },
      "execution_count": null,
      "outputs": []
    },
    {
      "cell_type": "markdown",
      "metadata": {
        "id": "RtpX2l-AZMq_"
      },
      "source": [
        "Question 3 (10 points): Use any of the feature selection methods mentioned in this paper \"Deng, X., Li, Y., Weng, J., & Zhang, J. (2019). Feature selection for text classification: A review. Multimedia Tools & Applications, 78(3).\" Select the most important features you extracted above, rank the features based on their importance in the descending order. "
      ]
    },
    {
      "cell_type": "markdown",
      "source": [
        "Here i am using the **Document Frequency(TF-IDF)** which is one of the **Filter method ** mentione in the paper Deng, X., Li, Y., Weng, J., & Zhang, J. (2019). Feature selection for text classification: A review. Multimedia Tools & Applications, 78(3).\n",
        "\n"
      ],
      "metadata": {
        "id": "by2-yoIZZMrA"
      }
    },
    {
      "cell_type": "code",
      "source": [
        "df = pd.read_csv('email-spam.csv')"
      ],
      "metadata": {
        "id": "ObdSenHLveZD"
      },
      "execution_count": null,
      "outputs": []
    },
    {
      "cell_type": "code",
      "source": [
        "df = df.drop_duplicates(ignore_index=True)"
      ],
      "metadata": {
        "id": "Bbphb1Myveb0"
      },
      "execution_count": null,
      "outputs": []
    },
    {
      "cell_type": "code",
      "source": [
        "stop_word = stopwords.words('english')\n",
        "stop_word += ['com', 'ect', 'www', 'email', 'one', 'two', 'shall', 'will','muzo','edt','cds','sav','ong','vnbl','pll','dik','btu','shl','wiil','eet','mmjx','spfa','may','could','like','may','hou','edu','ees','also','let','get','much','give','make','want','know','http','would','take','need']\n",
        "p = ['0','1','2','3','4','5','6','7','8','9']\n",
        "def text_manipulation(text): #text cleaning \n",
        "    text = text.lower() #text lowering\n",
        "    text = text.split(\":\", 1)[1]\n",
        "    tokenzie_text = word_tokenize(text)\n",
        "    without_punt = [word for word in tokenzie_text if word not in string.punctuation] #removing puctuncations\n",
        "    without_stop_w = [word for word in without_punt if word not in stop_word] # removing stop_words\n",
        "    without_num = []\n",
        "    for word in without_stop_w: #forloop for removing the digits\n",
        "        if word.isdigit():\n",
        "            continue\n",
        "        if word.isalnum():\n",
        "            word = list(word)\n",
        "            words = [i for i in word if i not in p]\n",
        "            word = ''.join(words)\n",
        "            without_num.append(word)\n",
        "        else:\n",
        "            without_num.append(word)\n",
        "    without_len1_2 = [word for word in without_num if len(word) >=3]\n",
        "    return without_len1_2\n",
        "        "
      ],
      "metadata": {
        "id": "ZVxA_Fm5xUP_"
      },
      "execution_count": null,
      "outputs": []
    },
    {
      "cell_type": "code",
      "source": [
        "df['text'] = df['text'].apply(text_manipulation)"
      ],
      "metadata": {
        "id": "kIulcsgVxUWN"
      },
      "execution_count": null,
      "outputs": []
    },
    {
      "cell_type": "code",
      "source": [
        "vocubulary = Counter()\n",
        "for word_list in df['text']: #for loop for getting the count of each words\n",
        "    for word in word_list:\n",
        "        vocubulary[word] += 1   \n",
        "print(\"Features in decending order : \",vocubulary)"
      ],
      "metadata": {
        "id": "lvPHk_1VxUb_"
      },
      "execution_count": null,
      "outputs": []
    },
    {
      "cell_type": "markdown",
      "metadata": {
        "id": "xHZ9o_OqZMrB"
      },
      "source": [
        "Question 4 (10 points): Write python code to rank the text based on text similarity. Based on the text data you used for question 2, design a query to match the most relevant docments. Please use the BERT model to represent both your query and the text data, then calculate the cosine similarity between the query and each text in your data. Rank the similary with descending order. "
      ]
    },
    {
      "cell_type": "code",
      "execution_count": null,
      "metadata": {
        "id": "JuZpkQcAZMrB"
      },
      "outputs": [],
      "source": [
        "from sentence_transformers import SentenceTransformer\n",
        "from sklearn.metrics.pairwise import cosine_similarity\n",
        "model = SentenceTransformer('bert-base-nli-mean-tokens')\n",
        "\n"
      ]
    },
    {
      "cell_type": "code",
      "source": [
        "encode_list = list()\n",
        "for i in df['text']:\n",
        "  encoded_text = model.encode(i)\n",
        "  encode_list.append(encoded_text)"
      ],
      "metadata": {
        "id": "ta8hCOZf0NkO"
      },
      "execution_count": null,
      "outputs": []
    },
    {
      "cell_type": "code",
      "source": [
        "query = input(\"Enter the Query input for spam text similarity\")"
      ],
      "metadata": {
        "id": "DFod-BXlzRfc"
      },
      "execution_count": null,
      "outputs": []
    },
    {
      "cell_type": "code",
      "source": [
        "query = model.encode(query)"
      ],
      "metadata": {
        "id": "GtpWe_z_0dfE"
      },
      "execution_count": null,
      "outputs": []
    },
    {
      "cell_type": "code",
      "source": [
        "for i in range(len(encode_list)):\n",
        "  print(df['text'][0])\n",
        "  print( max((cosine_similarity(\n",
        "    [query],\n",
        "    encode_list[i]\n",
        "))[0]))"
      ],
      "metadata": {
        "id": "DdWzvFmpy-rb"
      },
      "execution_count": null,
      "outputs": []
    }
  ],
  "metadata": {
    "kernelspec": {
      "display_name": "Python 3 (ipykernel)",
      "language": "python",
      "name": "python3"
    },
    "language_info": {
      "codemirror_mode": {
        "name": "ipython",
        "version": 3
      },
      "file_extension": ".py",
      "mimetype": "text/x-python",
      "name": "python",
      "nbconvert_exporter": "python",
      "pygments_lexer": "ipython3",
      "version": "3.9.12"
    },
    "colab": {
      "provenance": [],
      "include_colab_link": true
    }
  },
  "nbformat": 4,
  "nbformat_minor": 0
}