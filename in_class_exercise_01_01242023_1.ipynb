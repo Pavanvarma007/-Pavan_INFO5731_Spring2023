{
  "cells": [
    {
      "cell_type": "markdown",
      "metadata": {
        "id": "view-in-github",
        "colab_type": "text"
      },
      "source": [
        "<a href=\"https://colab.research.google.com/github/Pavanvarma007/-Pavan_INFO5731_Spring2023/blob/main/in_class_exercise_01_01242023_1.ipynb\" target=\"_parent\"><img src=\"https://colab.research.google.com/assets/colab-badge.svg\" alt=\"Open In Colab\"/></a>"
      ]
    },
    {
      "cell_type": "markdown",
      "metadata": {
        "id": "DymRJbxDBCnf"
      },
      "source": [
        "# **The first In-class-exercise (01/24/2023, 40 points in total)**"
      ]
    },
    {
      "cell_type": "markdown",
      "metadata": {
        "id": "03jb4GZsBkBS"
      },
      "source": [
        "(1) Write a Python program to calculate the length of a string. (4 points)"
      ]
    },
    {
      "cell_type": "code",
      "execution_count": null,
      "metadata": {
        "colab": {
          "base_uri": "https://localhost:8080/"
        },
        "id": "YaGLbSHHB8Ej",
        "outputId": "ea6ffbc1-fa9f-49f2-c977-f2d9f697f6fe"
      },
      "outputs": [
        {
          "output_type": "stream",
          "name": "stdout",
          "text": [
            "enter the string : pavan\n",
            "5\n"
          ]
        }
      ],
      "source": [
        "a=input(\"enter the string : \")\n",
        "print(len(a))"
      ]
    },
    {
      "cell_type": "markdown",
      "metadata": {
        "id": "jJDe71iLB616"
      },
      "source": [
        "(2) Write a Python program to count the number of characters in a string. (4 points)\n",
        "\n",
        "Sample String : 'google.com‘, \n",
        "\n",
        "Expected Result : {'o': 3, 'g': 2, '.': 1, 'e': 1, 'l': 1, 'm': 1, 'c': 1}"
      ]
    },
    {
      "cell_type": "code",
      "execution_count": null,
      "metadata": {
        "colab": {
          "base_uri": "https://localhost:8080/"
        },
        "id": "MtKskTzbCLaU",
        "outputId": "6f3789bd-8062-475f-838a-ab400382d0f7"
      },
      "outputs": [
        {
          "output_type": "stream",
          "name": "stdout",
          "text": [
            "Enter String: google.com\n",
            "{'o': 3, 'g': 2, 'm': 1, 'c': 1, '.': 1, 'e': 1, 'l': 1}\n"
          ]
        }
      ],
      "source": [
        "from collections import OrderedDict\n",
        "import numpy as np\n",
        "\n",
        "n = input(\"Enter String: \")\n",
        "d = dict()\n",
        "for a in n:\n",
        " if a in d:\n",
        "     d[a] = d[a] + 1\n",
        " else:\n",
        "     d[a] = 1\n",
        "\n",
        "keys = list(d.keys())\n",
        "values = list(d.values())\n",
        "sorted_answer = np.argsort(values)\n",
        "b=reversed(sorted_answer)\n",
        "sorted_dict = {keys[i]: values[i] for i in b}\n",
        " \n",
        "print(sorted_dict)"
      ]
    },
    {
      "cell_type": "markdown",
      "metadata": {
        "id": "55W9AMdXCSpV"
      },
      "source": [
        "(3) Write a Python program to sum all the items in a list. (4 points)"
      ]
    },
    {
      "cell_type": "code",
      "source": [
        "a = []\n",
        "total = 0\n",
        "num = int(input('How many numbers: '))\n",
        "for i in range(num):\n",
        "    numbers = int(input('Enter number '))\n",
        "    a.append(numbers)\n",
        "for j in range(0, len(a)):\n",
        "    total = total + a[j]\n",
        "print(\"Sum :\", total)"
      ],
      "metadata": {
        "colab": {
          "base_uri": "https://localhost:8080/"
        },
        "id": "xZQupLggws5P",
        "outputId": "a400f435-1400-415d-e333-6462a69d2002"
      },
      "execution_count": null,
      "outputs": [
        {
          "output_type": "stream",
          "name": "stdout",
          "text": [
            "How many numbers: 5\n",
            "Enter number 1\n",
            "Enter number 2\n",
            "Enter number 3\n",
            "Enter number 4\n",
            "Enter number 5\n",
            "Sum : 15\n"
          ]
        }
      ]
    },
    {
      "cell_type": "markdown",
      "metadata": {
        "id": "4ulBZ6yhCi9F"
      },
      "source": [
        "(4) Write a Python program to get a string from a given string where all occurrences of its first char have been changed to '\\$', except the first char itself. (4 points)\n",
        "\n",
        "Sample String : 'restart‘, \n",
        "\n",
        "Expected Result : 'resta\\$t'"
      ]
    },
    {
      "cell_type": "code",
      "execution_count": null,
      "metadata": {
        "colab": {
          "base_uri": "https://localhost:8080/"
        },
        "id": "Fj0XhwbBCw2o",
        "outputId": "7ced272f-36cb-4a74-923f-1df2b243c49a"
      },
      "outputs": [
        {
          "output_type": "stream",
          "name": "stdout",
          "text": [
            "enter string: restart\n",
            "resta$t\n"
          ]
        }
      ],
      "source": [
        "a=input(\"enter string: \")\n",
        "b= a[0]\n",
        "a= a.replace(b, '$')\n",
        "a = b + a[1:]\n",
        "print(a)"
      ]
    },
    {
      "cell_type": "markdown",
      "metadata": {
        "id": "_bIP7s1MCzue"
      },
      "source": [
        "(5) Write a program with python which could accept two parameter a and b to calculate and output the result of S, where \n",
        "\n",
        "$\\ S=3.14*(1+a/b)^3$ (4 points)\n",
        "\n"
      ]
    },
    {
      "cell_type": "code",
      "execution_count": null,
      "metadata": {
        "colab": {
          "base_uri": "https://localhost:8080/"
        },
        "id": "w79QilHXD3Mg",
        "outputId": "9ac1c806-0f7e-479c-e3ec-7c28b66dadfa"
      },
      "outputs": [
        {
          "output_type": "stream",
          "name": "stdout",
          "text": [
            "Enter a value2\n",
            "Enter b value3\n",
            "14.537037037037033\n"
          ]
        }
      ],
      "source": [
        "a=int(input(\"Enter a value\"))\n",
        "b=int(input(\"Enter b value\"))\n",
        "result=3.14*((1+a/b)**3)\n",
        "print(result)"
      ]
    },
    {
      "cell_type": "markdown",
      "metadata": {
        "id": "xCa2bK9aD4Q3"
      },
      "source": [
        "(6) Write a Python program to concatenate following dictionaries to create a new one. (4 points)\n",
        "\n",
        "Sample Dictionary : dic1={1:10, 2:20}, dic2={3:30, 4:40}, dic3={5:50,6:60}, \n",
        "\n",
        "Expected Result : {1: 10, 2: 20, 3: 30, 4: 40, 5: 50, 6: 60}\n"
      ]
    },
    {
      "cell_type": "code",
      "execution_count": null,
      "metadata": {
        "colab": {
          "base_uri": "https://localhost:8080/"
        },
        "id": "_z4aLqAbEET1",
        "outputId": "a0c76814-03d9-417f-b8d8-72db11288e0a"
      },
      "outputs": [
        {
          "output_type": "stream",
          "name": "stdout",
          "text": [
            "{1: 10, 2: 20, 3: 30, 4: 40, 5: 50, 6: 60}\n"
          ]
        }
      ],
      "source": [
        "d1={1:10, 2:20}\n",
        "d2={3:30, 4:40}\n",
        "d3={5:50,6:60}\n",
        "d4={**d1, **d2, **d3}\n",
        "print(d4)"
      ]
    },
    {
      "cell_type": "markdown",
      "metadata": {
        "id": "0v48Vqa7FrQh"
      },
      "source": [
        "(7) Write a Python program to check whether an element exists within a tuple. (4 points)"
      ]
    },
    {
      "cell_type": "code",
      "execution_count": null,
      "metadata": {
        "colab": {
          "base_uri": "https://localhost:8080/"
        },
        "id": "7WEmgq-DF2P1",
        "outputId": "98e92a9c-c3d9-4644-88b1-e9e3cf5672ea"
      },
      "outputs": [
        {
          "output_type": "stream",
          "name": "stdout",
          "text": [
            "Enter space separated words: p a v a n v a r m a\n",
            "('p', 'a', 'v', 'a', 'n', 'v', 'a', 'r', 'm', 'a')\n",
            "True\n",
            "False\n",
            "False\n",
            "True\n"
          ]
        }
      ],
      "source": [
        "a = tuple(input('Enter space separated words: ').split())\n",
        "print(a)\n",
        "print(\"a\" in a)\n",
        "print(\"e\" in a)\n",
        "print(\"i\" in a)\n",
        "print(\"n\" in a)"
      ]
    },
    {
      "cell_type": "markdown",
      "metadata": {
        "id": "vD5PYLMuGga_"
      },
      "source": [
        "(8) Write a Python program to find maximum and the minimum value in a set. (4 points)"
      ]
    },
    {
      "cell_type": "code",
      "execution_count": null,
      "metadata": {
        "colab": {
          "base_uri": "https://localhost:8080/"
        },
        "id": "t0D5kdJUGjjw",
        "outputId": "de3da7a9-7af7-42a7-eacf-0c3f4e439bde"
      },
      "outputs": [
        {
          "output_type": "stream",
          "name": "stdout",
          "text": [
            "1\n",
            "66\n"
          ]
        }
      ],
      "source": [
        "a =[1,2,3,4,5,6,7,8,9,11,22,33,44,55,66]\n",
        "print(min(a))\n",
        "print(max(a))"
      ]
    },
    {
      "cell_type": "markdown",
      "metadata": {
        "id": "uHkd-y5VhVWC"
      },
      "source": [
        "(9) Write a Python program to randomly divide the students in this class into six groups for term projects, each group should have at least 4 students but no more than 6 students (including 6). Here is the students list: (4 points)\n",
        "\n",
        "studnet_list = ['ja0964','sa1198','sb1357','vb0218','sc1229','kg0569','kg0470','sg1297','bg0320','fh0141','jl1252','sk1386',\n",
        "           'ak0956','sk1390','sk1458','sk1313','ak0934','vm0377','nm0618','sm1640','sm1907','gn0108','pr0353','dr0609','ms1500','aos0040','ds0814', 'av0659','nv0234','hy0232']"
      ]
    },
    {
      "cell_type": "code",
      "execution_count": null,
      "metadata": {
        "colab": {
          "base_uri": "https://localhost:8080/"
        },
        "id": "3iGbmcOBhTwy",
        "outputId": "41080da5-4a30-4334-ad5d-a58f65c31d97"
      },
      "outputs": [
        {
          "output_type": "stream",
          "name": "stdout",
          "text": [
            "Group 1: ['pr0353', 'ak0956', 'fh0141', 'vb0218', 'kg0569']\n",
            "Group 2: ['hy0232', 'sm1640', 'sa1198', 'vm0377', 'sg1297']\n",
            "Group 3: ['ak0934', 'kg0470', 'sk1390', 'jl1252', 'ja0964']\n",
            "Group 4: ['nm0618', 'sc1229', 'aos0040', 'av0659', 'bg0320']\n",
            "Group 5: ['sk1458', 'dr0609', 'sm1907', 'ms1500', 'sk1313']\n",
            "Group 6: ['sk1386', 'sb1357', 'nv0234', 'gn0108', 'ds0814']\n"
          ]
        }
      ],
      "source": [
        "import random\n",
        "a=['ja0964','sa1198','sb1357','vb0218','sc1229','kg0569','kg0470','sg1297','bg0320','fh0141','jl1252','sk1386', 'ak0956','sk1390','sk1458','sk1313','ak0934','vm0377','nm0618','sm1640','sm1907','gn0108','pr0353','dr0609','ms1500','aos0040','ds0814', 'av0659','nv0234','hy0232']\n",
        "grps=6\n",
        "grp_size=(len(a)+grps-1)//grps\n",
        "random.shuffle(a)\n",
        "grouped_students=[a[i:i+grp_size] for i in range(0, len(a), grp_size)]\n",
        "for i, group in enumerate(grouped_students):\n",
        "    print(\"Group {}: {}\".format(i+1, group))"
      ]
    },
    {
      "cell_type": "markdown",
      "metadata": {
        "id": "nm8fPfD_kC7o"
      },
      "source": [
        "(10) Write a Python program to find the duplicate elements in a given array of integers. Return -1 If there are no such elements. (4 points)"
      ]
    },
    {
      "cell_type": "code",
      "execution_count": null,
      "metadata": {
        "colab": {
          "base_uri": "https://localhost:8080/"
        },
        "id": "-hyKdV1GkC7o",
        "outputId": "3e5e7054-3938-4bdd-f08e-f432bb16bd81"
      },
      "outputs": [
        {
          "output_type": "stream",
          "name": "stdout",
          "text": [
            "55\n",
            "-1\n",
            "9\n"
          ]
        }
      ],
      "source": [
        "def duplicate(nums):\n",
        "    a = set()\n",
        "    no_duplicate = -1\n",
        "\n",
        "    for i in range(len(nums)):\n",
        "\n",
        "        if nums[i] in a:\n",
        "            return nums[i]\n",
        "        else:\n",
        "            a.add(nums[i])\n",
        "\n",
        "    return no_duplicate\n",
        "print(duplicate([55,66,7,3,55,2,3,7]))\n",
        "print(duplicate([8,56,0,2,3,4]))\n",
        "print(duplicate([9,8,9,9,8,8,7,7,7]))"
      ]
    },
    {
      "cell_type": "markdown",
      "metadata": {
        "id": "YveCxKdukC7o"
      },
      "source": [
        "(11) Write a Python program to select all the Sundays of a specified year. (4 extra points)"
      ]
    },
    {
      "cell_type": "code",
      "execution_count": null,
      "metadata": {
        "colab": {
          "base_uri": "https://localhost:8080/"
        },
        "id": "xzdq7XGQkC7p",
        "outputId": "5eb895a7-8c1a-408a-d7e3-93aaa1c8821b"
      },
      "outputs": [
        {
          "output_type": "stream",
          "name": "stdout",
          "text": [
            "1998-01-04 00:00:00\n",
            "1998-01-11 00:00:00\n",
            "1998-01-18 00:00:00\n",
            "1998-01-25 00:00:00\n",
            "1998-02-01 00:00:00\n",
            "1998-02-08 00:00:00\n",
            "1998-02-15 00:00:00\n",
            "1998-02-22 00:00:00\n",
            "1998-03-01 00:00:00\n",
            "1998-03-08 00:00:00\n",
            "1998-03-15 00:00:00\n",
            "1998-03-22 00:00:00\n",
            "1998-03-29 00:00:00\n",
            "1998-04-05 00:00:00\n",
            "1998-04-12 00:00:00\n",
            "1998-04-19 00:00:00\n",
            "1998-04-26 00:00:00\n",
            "1998-05-03 00:00:00\n",
            "1998-05-10 00:00:00\n",
            "1998-05-17 00:00:00\n",
            "1998-05-24 00:00:00\n",
            "1998-05-31 00:00:00\n",
            "1998-06-07 00:00:00\n",
            "1998-06-14 00:00:00\n",
            "1998-06-21 00:00:00\n",
            "1998-06-28 00:00:00\n",
            "1998-07-05 00:00:00\n",
            "1998-07-12 00:00:00\n",
            "1998-07-19 00:00:00\n",
            "1998-07-26 00:00:00\n",
            "1998-08-02 00:00:00\n",
            "1998-08-09 00:00:00\n",
            "1998-08-16 00:00:00\n",
            "1998-08-23 00:00:00\n",
            "1998-08-30 00:00:00\n",
            "1998-09-06 00:00:00\n",
            "1998-09-13 00:00:00\n",
            "1998-09-20 00:00:00\n",
            "1998-09-27 00:00:00\n",
            "1998-10-04 00:00:00\n",
            "1998-10-11 00:00:00\n",
            "1998-10-18 00:00:00\n",
            "1998-10-25 00:00:00\n",
            "1998-11-01 00:00:00\n",
            "1998-11-08 00:00:00\n",
            "1998-11-15 00:00:00\n",
            "1998-11-22 00:00:00\n",
            "1998-11-29 00:00:00\n",
            "1998-12-06 00:00:00\n",
            "1998-12-13 00:00:00\n",
            "1998-12-20 00:00:00\n",
            "1998-12-27 00:00:00\n",
            "1999-01-03 00:00:00\n"
          ]
        }
      ],
      "source": [
        "import datetime\n",
        "year = '1998'\n",
        "for week in range(53):\n",
        "    print(datetime.datetime.strptime(year+str(week)+'0', '%Y%W%w'))"
      ]
    }
  ],
  "metadata": {
    "colab": {
      "provenance": [],
      "include_colab_link": true
    },
    "kernelspec": {
      "display_name": "Python 3 (ipykernel)",
      "language": "python",
      "name": "python3"
    },
    "language_info": {
      "codemirror_mode": {
        "name": "ipython",
        "version": 3
      },
      "file_extension": ".py",
      "mimetype": "text/x-python",
      "name": "python",
      "nbconvert_exporter": "python",
      "pygments_lexer": "ipython3",
      "version": "3.9.12"
    }
  },
  "nbformat": 4,
  "nbformat_minor": 0
}