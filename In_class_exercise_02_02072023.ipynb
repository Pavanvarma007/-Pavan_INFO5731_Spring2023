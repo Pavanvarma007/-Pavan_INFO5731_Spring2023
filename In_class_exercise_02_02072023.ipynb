{
  "cells": [
    {
      "cell_type": "markdown",
      "metadata": {
        "id": "view-in-github",
        "colab_type": "text"
      },
      "source": [
        "<a href=\"https://colab.research.google.com/github/Pavanvarma007/-Pavan_INFO5731_Spring2023/blob/main/In_class_exercise_02_02072023.ipynb\" target=\"_parent\"><img src=\"https://colab.research.google.com/assets/colab-badge.svg\" alt=\"Open In Colab\"/></a>"
      ]
    },
    {
      "cell_type": "markdown",
      "metadata": {
        "id": "FiHEJu_t3gos"
      },
      "source": [
        "## The second In-class-exercise (02/07/2023, 40 points in total)"
      ]
    },
    {
      "cell_type": "markdown",
      "metadata": {
        "id": "_anxU9Vy3gov"
      },
      "source": [
        "The purpose of this exercise is to understand users' information needs, then collect data from different sources for analysis."
      ]
    },
    {
      "cell_type": "markdown",
      "metadata": {
        "id": "jslIjfmg3gov"
      },
      "source": [
        "Question 1 (10 points): Describe an interesting research question (or practical question) you have in mind, what kind of data should be collected to answer the question(s)? How many data needed for the analysis? The detail steps for collecting and save the data. "
      ]
    },
    {
      "cell_type": "code",
      "execution_count": null,
      "metadata": {
        "id": "qZf_6OAd3gow"
      },
      "outputs": [],
      "source": [
        "1:a:The question i am going to analyse is details of the car such as type,manufactured year,price,fuel type and many more from the cars dekho website \n",
        "    ,which is popular website to buy used cars where all the details of the previous owner are displayed. \n",
        " :b:for this i have to extract the data of cars from file by filtering the results.\n",
        " :c:more than 2,000 results are to be collected\n",
        " :d: We can collect the ratings of data by web scraping and it will be saved as a structured data,so that user can easily handle the data,\n",
        "  we have to import beautiful soap library."
      ]
    },
    {
      "cell_type": "markdown",
      "metadata": {
        "id": "SJjr_RVT3gox"
      },
      "source": [
        "Question 2 (10 points): Write python code to collect 1000 data samples you discussed above."
      ]
    },
    {
      "cell_type": "code",
      "execution_count": 2,
      "metadata": {
        "colab": {
          "base_uri": "https://localhost:8080/",
          "height": 337
        },
        "id": "QqU7Sy1F3goy",
        "outputId": "73588bb9-dfff-4f86-d35a-0cec6cb2c78f"
      },
      "outputs": [
        {
          "output_type": "execute_result",
          "data": {
            "text/plain": [
              "                           name  year  selling_price  km_driven    fuel  \\\n",
              "0        Maruti Swift Dzire VDI  2014         450000     145500  Diesel   \n",
              "1  Skoda Rapid 1.5 TDI Ambition  2014         370000     120000  Diesel   \n",
              "2      Honda City 2017-2020 EXi  2006         158000     140000  Petrol   \n",
              "3     Hyundai i20 Sportz Diesel  2010         225000     127000  Diesel   \n",
              "4        Maruti Swift VXI BSIII  2007         130000     120000  Petrol   \n",
              "\n",
              "  seller_type transmission         owner     mileage   engine   max_power  \\\n",
              "0  Individual       Manual   First Owner   23.4 kmpl  1248 CC      74 bhp   \n",
              "1  Individual       Manual  Second Owner  21.14 kmpl  1498 CC  103.52 bhp   \n",
              "2  Individual       Manual   Third Owner   17.7 kmpl  1497 CC      78 bhp   \n",
              "3  Individual       Manual   First Owner   23.0 kmpl  1396 CC      90 bhp   \n",
              "4  Individual       Manual   First Owner   16.1 kmpl  1298 CC    88.2 bhp   \n",
              "\n",
              "                     torque  seats  \n",
              "0            190Nm@ 2000rpm    5.0  \n",
              "1       250Nm@ 1500-2500rpm    5.0  \n",
              "2     12.7@ 2,700(kgm@ rpm)    5.0  \n",
              "3  22.4 kgm at 1750-2750rpm    5.0  \n",
              "4     11.5@ 4,500(kgm@ rpm)    5.0  "
            ],
            "text/html": [
              "\n",
              "  <div id=\"df-ffc9b92a-86a9-4521-b492-5a9a48b273f7\">\n",
              "    <div class=\"colab-df-container\">\n",
              "      <div>\n",
              "<style scoped>\n",
              "    .dataframe tbody tr th:only-of-type {\n",
              "        vertical-align: middle;\n",
              "    }\n",
              "\n",
              "    .dataframe tbody tr th {\n",
              "        vertical-align: top;\n",
              "    }\n",
              "\n",
              "    .dataframe thead th {\n",
              "        text-align: right;\n",
              "    }\n",
              "</style>\n",
              "<table border=\"1\" class=\"dataframe\">\n",
              "  <thead>\n",
              "    <tr style=\"text-align: right;\">\n",
              "      <th></th>\n",
              "      <th>name</th>\n",
              "      <th>year</th>\n",
              "      <th>selling_price</th>\n",
              "      <th>km_driven</th>\n",
              "      <th>fuel</th>\n",
              "      <th>seller_type</th>\n",
              "      <th>transmission</th>\n",
              "      <th>owner</th>\n",
              "      <th>mileage</th>\n",
              "      <th>engine</th>\n",
              "      <th>max_power</th>\n",
              "      <th>torque</th>\n",
              "      <th>seats</th>\n",
              "    </tr>\n",
              "  </thead>\n",
              "  <tbody>\n",
              "    <tr>\n",
              "      <th>0</th>\n",
              "      <td>Maruti Swift Dzire VDI</td>\n",
              "      <td>2014</td>\n",
              "      <td>450000</td>\n",
              "      <td>145500</td>\n",
              "      <td>Diesel</td>\n",
              "      <td>Individual</td>\n",
              "      <td>Manual</td>\n",
              "      <td>First Owner</td>\n",
              "      <td>23.4 kmpl</td>\n",
              "      <td>1248 CC</td>\n",
              "      <td>74 bhp</td>\n",
              "      <td>190Nm@ 2000rpm</td>\n",
              "      <td>5.0</td>\n",
              "    </tr>\n",
              "    <tr>\n",
              "      <th>1</th>\n",
              "      <td>Skoda Rapid 1.5 TDI Ambition</td>\n",
              "      <td>2014</td>\n",
              "      <td>370000</td>\n",
              "      <td>120000</td>\n",
              "      <td>Diesel</td>\n",
              "      <td>Individual</td>\n",
              "      <td>Manual</td>\n",
              "      <td>Second Owner</td>\n",
              "      <td>21.14 kmpl</td>\n",
              "      <td>1498 CC</td>\n",
              "      <td>103.52 bhp</td>\n",
              "      <td>250Nm@ 1500-2500rpm</td>\n",
              "      <td>5.0</td>\n",
              "    </tr>\n",
              "    <tr>\n",
              "      <th>2</th>\n",
              "      <td>Honda City 2017-2020 EXi</td>\n",
              "      <td>2006</td>\n",
              "      <td>158000</td>\n",
              "      <td>140000</td>\n",
              "      <td>Petrol</td>\n",
              "      <td>Individual</td>\n",
              "      <td>Manual</td>\n",
              "      <td>Third Owner</td>\n",
              "      <td>17.7 kmpl</td>\n",
              "      <td>1497 CC</td>\n",
              "      <td>78 bhp</td>\n",
              "      <td>12.7@ 2,700(kgm@ rpm)</td>\n",
              "      <td>5.0</td>\n",
              "    </tr>\n",
              "    <tr>\n",
              "      <th>3</th>\n",
              "      <td>Hyundai i20 Sportz Diesel</td>\n",
              "      <td>2010</td>\n",
              "      <td>225000</td>\n",
              "      <td>127000</td>\n",
              "      <td>Diesel</td>\n",
              "      <td>Individual</td>\n",
              "      <td>Manual</td>\n",
              "      <td>First Owner</td>\n",
              "      <td>23.0 kmpl</td>\n",
              "      <td>1396 CC</td>\n",
              "      <td>90 bhp</td>\n",
              "      <td>22.4 kgm at 1750-2750rpm</td>\n",
              "      <td>5.0</td>\n",
              "    </tr>\n",
              "    <tr>\n",
              "      <th>4</th>\n",
              "      <td>Maruti Swift VXI BSIII</td>\n",
              "      <td>2007</td>\n",
              "      <td>130000</td>\n",
              "      <td>120000</td>\n",
              "      <td>Petrol</td>\n",
              "      <td>Individual</td>\n",
              "      <td>Manual</td>\n",
              "      <td>First Owner</td>\n",
              "      <td>16.1 kmpl</td>\n",
              "      <td>1298 CC</td>\n",
              "      <td>88.2 bhp</td>\n",
              "      <td>11.5@ 4,500(kgm@ rpm)</td>\n",
              "      <td>5.0</td>\n",
              "    </tr>\n",
              "  </tbody>\n",
              "</table>\n",
              "</div>\n",
              "      <button class=\"colab-df-convert\" onclick=\"convertToInteractive('df-ffc9b92a-86a9-4521-b492-5a9a48b273f7')\"\n",
              "              title=\"Convert this dataframe to an interactive table.\"\n",
              "              style=\"display:none;\">\n",
              "        \n",
              "  <svg xmlns=\"http://www.w3.org/2000/svg\" height=\"24px\"viewBox=\"0 0 24 24\"\n",
              "       width=\"24px\">\n",
              "    <path d=\"M0 0h24v24H0V0z\" fill=\"none\"/>\n",
              "    <path d=\"M18.56 5.44l.94 2.06.94-2.06 2.06-.94-2.06-.94-.94-2.06-.94 2.06-2.06.94zm-11 1L8.5 8.5l.94-2.06 2.06-.94-2.06-.94L8.5 2.5l-.94 2.06-2.06.94zm10 10l.94 2.06.94-2.06 2.06-.94-2.06-.94-.94-2.06-.94 2.06-2.06.94z\"/><path d=\"M17.41 7.96l-1.37-1.37c-.4-.4-.92-.59-1.43-.59-.52 0-1.04.2-1.43.59L10.3 9.45l-7.72 7.72c-.78.78-.78 2.05 0 2.83L4 21.41c.39.39.9.59 1.41.59.51 0 1.02-.2 1.41-.59l7.78-7.78 2.81-2.81c.8-.78.8-2.07 0-2.86zM5.41 20L4 18.59l7.72-7.72 1.47 1.35L5.41 20z\"/>\n",
              "  </svg>\n",
              "      </button>\n",
              "      \n",
              "  <style>\n",
              "    .colab-df-container {\n",
              "      display:flex;\n",
              "      flex-wrap:wrap;\n",
              "      gap: 12px;\n",
              "    }\n",
              "\n",
              "    .colab-df-convert {\n",
              "      background-color: #E8F0FE;\n",
              "      border: none;\n",
              "      border-radius: 50%;\n",
              "      cursor: pointer;\n",
              "      display: none;\n",
              "      fill: #1967D2;\n",
              "      height: 32px;\n",
              "      padding: 0 0 0 0;\n",
              "      width: 32px;\n",
              "    }\n",
              "\n",
              "    .colab-df-convert:hover {\n",
              "      background-color: #E2EBFA;\n",
              "      box-shadow: 0px 1px 2px rgba(60, 64, 67, 0.3), 0px 1px 3px 1px rgba(60, 64, 67, 0.15);\n",
              "      fill: #174EA6;\n",
              "    }\n",
              "\n",
              "    [theme=dark] .colab-df-convert {\n",
              "      background-color: #3B4455;\n",
              "      fill: #D2E3FC;\n",
              "    }\n",
              "\n",
              "    [theme=dark] .colab-df-convert:hover {\n",
              "      background-color: #434B5C;\n",
              "      box-shadow: 0px 1px 3px 1px rgba(0, 0, 0, 0.15);\n",
              "      filter: drop-shadow(0px 1px 2px rgba(0, 0, 0, 0.3));\n",
              "      fill: #FFFFFF;\n",
              "    }\n",
              "  </style>\n",
              "\n",
              "      <script>\n",
              "        const buttonEl =\n",
              "          document.querySelector('#df-ffc9b92a-86a9-4521-b492-5a9a48b273f7 button.colab-df-convert');\n",
              "        buttonEl.style.display =\n",
              "          google.colab.kernel.accessAllowed ? 'block' : 'none';\n",
              "\n",
              "        async function convertToInteractive(key) {\n",
              "          const element = document.querySelector('#df-ffc9b92a-86a9-4521-b492-5a9a48b273f7');\n",
              "          const dataTable =\n",
              "            await google.colab.kernel.invokeFunction('convertToInteractive',\n",
              "                                                     [key], {});\n",
              "          if (!dataTable) return;\n",
              "\n",
              "          const docLinkHtml = 'Like what you see? Visit the ' +\n",
              "            '<a target=\"_blank\" href=https://colab.research.google.com/notebooks/data_table.ipynb>data table notebook</a>'\n",
              "            + ' to learn more about interactive tables.';\n",
              "          element.innerHTML = '';\n",
              "          dataTable['output_type'] = 'display_data';\n",
              "          await google.colab.output.renderOutput(dataTable, element);\n",
              "          const docLink = document.createElement('div');\n",
              "          docLink.innerHTML = docLinkHtml;\n",
              "          element.appendChild(docLink);\n",
              "        }\n",
              "      </script>\n",
              "    </div>\n",
              "  </div>\n",
              "  "
            ]
          },
          "metadata": {},
          "execution_count": 2
        }
      ],
      "source": [
        "import pandas as pd\n",
        "import matplotlib.pyplot as plt\n",
        "data=pd.read_csv('Car details v3.csv')\n",
        "data.head()\n",
        "\n"
      ]
    },
    {
      "cell_type": "code",
      "source": [
        "total_km=data[data[\"km_driven\"]<100000]\n",
        "fuel_type=total_km[total_km[\"fuel\"]==\"Petrol\"].sort_values(by='km_driven',ascending=False)\n",
        "total_transmission=total_km[total_km[\"transmission\"]==\"Manual\"].sort_values(by='km_driven',ascending=False)\n",
        "print(fuel_type)\n",
        "print(total_transmission)"
      ],
      "metadata": {
        "colab": {
          "base_uri": "https://localhost:8080/"
        },
        "id": "QZ8TCyxm3o3K",
        "outputId": "65dd135c-a884-4dc0-c89e-220343aa72f4"
      },
      "execution_count": 5,
      "outputs": [
        {
          "output_type": "stream",
          "name": "stdout",
          "text": [
            "                         name  year  selling_price  km_driven    fuel  \\\n",
            "302           Maruti Alto LXI  2005          90000      99361  Petrol   \n",
            "4554      Maruti SX4 Vxi BSIV  2012         260000      99000  Petrol   \n",
            "666         Maruti A-Star Zxi  2012         235000      98500  Petrol   \n",
            "7425      Honda City 1.5 S MT  2010         360000      98000  Petrol   \n",
            "2345    Hyundai i20 1.2 Magna  2011         350000      98000  Petrol   \n",
            "...                       ...   ...            ...        ...     ...   \n",
            "7589         Maruti Swift LXI  2020         445000       1000  Petrol   \n",
            "7492     Hyundai Santro Magna  2020         500000       1000  Petrol   \n",
            "2963     Maruti Swift AMT VXI  2020         654000       1000  Petrol   \n",
            "7429         Maruti Swift LXI  2020         445000       1000  Petrol   \n",
            "399   Honda City i-VTEC CVT V  2018        1085000       1000  Petrol   \n",
            "\n",
            "     seller_type transmission         owner     mileage   engine  max_power  \\\n",
            "302   Individual       Manual  Second Owner   19.7 kmpl   796 CC   46.3 bhp   \n",
            "4554  Individual       Manual  Second Owner   15.5 kmpl  1586 CC  103.3 bhp   \n",
            "666   Individual       Manual  Second Owner   19.0 kmpl   998 CC   66.1 bhp   \n",
            "7425  Individual       Manual   Third Owner   17.0 kmpl  1497 CC    118 bhp   \n",
            "2345  Individual       Manual   First Owner   18.5 kmpl  1197 CC     80 bhp   \n",
            "...          ...          ...           ...         ...      ...        ...   \n",
            "7589  Individual       Manual   First Owner  21.21 kmpl  1197 CC  81.80 bhp   \n",
            "7492  Individual       Manual   First Owner   20.3 kmpl  1086 CC  68.07 bhp   \n",
            "2963  Individual    Automatic   First Owner  21.21 kmpl  1197 CC  81.80 bhp   \n",
            "7429  Individual       Manual   First Owner  21.21 kmpl  1197 CC  81.80 bhp   \n",
            "399   Individual    Automatic   First Owner   18.0 kmpl  1497 CC  117.6 bhp   \n",
            "\n",
            "                     torque  seats  \n",
            "302           62Nm@ 3000rpm    5.0  \n",
            "4554         145Nm@ 4100rpm    5.0  \n",
            "666           90Nm@ 3500rpm    5.0  \n",
            "7425      146Nm at 4800 rpm    5.0  \n",
            "2345  11.4 kgm at 4,000 rpm    5.0  \n",
            "...                     ...    ...  \n",
            "7589         113Nm@ 4200rpm    5.0  \n",
            "7492       99.07Nm@ 4500rpm    5.0  \n",
            "2963         113Nm@ 4200rpm    5.0  \n",
            "7429         113Nm@ 4200rpm    5.0  \n",
            "399          145Nm@ 4600rpm    5.0  \n",
            "\n",
            "[3185 rows x 13 columns]\n",
            "                                             name  year  selling_price  \\\n",
            "4206                         Chevrolet Captiva LT  2011         500000   \n",
            "471                          Chevrolet Captiva LT  2011         500000   \n",
            "302                               Maruti Alto LXI  2005          90000   \n",
            "1663        Mahindra Renault Logan 1.5 DLX Diesel  2007         175000   \n",
            "48    Toyota Innova 2.5 G (Diesel) 7 Seater BS IV  2013         700000   \n",
            "...                                           ...   ...            ...   \n",
            "6163                         Datsun RediGO SV 1.0  2019         325000   \n",
            "7429                             Maruti Swift LXI  2020         445000   \n",
            "7492                         Hyundai Santro Magna  2020         500000   \n",
            "7589                             Maruti Swift LXI  2020         445000   \n",
            "7913       Maruti Eeco 5 STR With AC Plus HTR CNG  2011         209000   \n",
            "\n",
            "      km_driven    fuel seller_type transmission                 owner  \\\n",
            "4206      99500  Diesel  Individual       Manual           Third Owner   \n",
            "471       99500  Diesel  Individual       Manual           Third Owner   \n",
            "302       99361  Petrol  Individual       Manual          Second Owner   \n",
            "1663      99000  Diesel  Individual       Manual          Second Owner   \n",
            "48        99000  Diesel      Dealer       Manual           First Owner   \n",
            "...         ...     ...         ...          ...                   ...   \n",
            "6163       1300  Petrol  Individual       Manual           First Owner   \n",
            "7429       1000  Petrol  Individual       Manual           First Owner   \n",
            "7492       1000  Petrol  Individual       Manual           First Owner   \n",
            "7589       1000  Petrol  Individual       Manual           First Owner   \n",
            "7913          1     CNG  Individual       Manual  Fourth & Above Owner   \n",
            "\n",
            "         mileage   engine  max_power               torque  seats  \n",
            "4206   11.5 kmpl  1991 CC  147.9 bhp       320Nm@ 2000rpm    7.0  \n",
            "471    11.5 kmpl  1991 CC  147.9 bhp       320Nm@ 2000rpm    7.0  \n",
            "302    19.7 kmpl   796 CC   46.3 bhp        62Nm@ 3000rpm    5.0  \n",
            "1663   19.2 kmpl  1461 CC     65 bhp  16@ 2,000(kgm@ rpm)    5.0  \n",
            "48    12.99 kmpl  2494 CC    100 bhp  200Nm@ 1400-3400rpm    7.0  \n",
            "...          ...      ...        ...                  ...    ...  \n",
            "6163   22.5 kmpl   999 CC     67 bhp        91Nm@ 4250rpm    5.0  \n",
            "7429  21.21 kmpl  1197 CC  81.80 bhp       113Nm@ 4200rpm    5.0  \n",
            "7492   20.3 kmpl  1086 CC  68.07 bhp     99.07Nm@ 4500rpm    5.0  \n",
            "7589  21.21 kmpl  1197 CC  81.80 bhp       113Nm@ 4200rpm    5.0  \n",
            "7913  15.1 km/kg  1196 CC     73 bhp       101Nm@ 3000rpm    5.0  \n",
            "\n",
            "[5140 rows x 13 columns]\n"
          ]
        }
      ]
    },
    {
      "cell_type": "code",
      "source": [
        "a=[]\n",
        "a.append(fuel_type['km_driven'].min())\n",
        "a.append(total_transmission['km_driven'].max())\n",
        "b=[\"fuel_type\",\"Transmission\"]\n",
        "plt.bar(b,a)\n",
        "plt.title(\"car with less driven and fuel type perol and manual transmission type\")\n",
        "plt.ylabel('selling_price')"
      ],
      "metadata": {
        "colab": {
          "base_uri": "https://localhost:8080/",
          "height": 299
        },
        "id": "EEG3zgJM6qxD",
        "outputId": "abe2ee6c-9dd7-4a98-8e08-85650bff32cb"
      },
      "execution_count": 8,
      "outputs": [
        {
          "output_type": "execute_result",
          "data": {
            "text/plain": [
              "Text(0, 0.5, 'selling_price')"
            ]
          },
          "metadata": {},
          "execution_count": 8
        },
        {
          "output_type": "display_data",
          "data": {
            "text/plain": [
              "<Figure size 432x288 with 1 Axes>"
            ],
            "image/png": "[encoded data removed]"
          },
          "metadata": {
            "needs_background": "light"
          }
        }
      ]
    },
    {
      "cell_type": "markdown",
      "metadata": {
        "id": "dTpAzwdT3goy"
      },
      "source": [
        "Question 3 (10 points): Write python code to collect 1000 articles from Google Scholar (https://scholar.google.com/), Microsoft Academic (https://academic.microsoft.com/home), or CiteSeerX (https://citeseerx.ist.psu.edu/index), or Semantic Scholar (https://www.semanticscholar.org/), or ACM Digital Libraries (https://dl.acm.org/) with the keyword \"information retrieval\". The articles should be published in the last 10 years (2012-2022).\n",
        "\n",
        "The following information of the article needs to be collected:\n",
        "\n",
        "(1) Title\n",
        "\n",
        "(2) Venue/journal/conference being published\n",
        "\n",
        "(3) Year\n",
        "\n",
        "(4) Authors\n",
        "\n",
        "(5) Abstract"
      ]
    },
    {
      "cell_type": "code",
      "execution_count": 11,
      "metadata": {
        "id": "AsAZs1hd3goz"
      },
      "outputs": [],
      "source": [
        "from bs4 import BeautifulSoup\n",
        "import requests\n",
        "url = 'https://dl.acm.org/action/doSearch?AllField=used+cars+statistics'\n",
        "response=requests.get(url)\n",
        "soup=BeautifulSoup(response.content,'lxml')\n",
        "for item in soup.select('[data-lid]'):\n",
        "\ttry:\n",
        "\t\tprint('----------------------------------------')\n",
        "\t\tprint(item)\n",
        "\texcept Exception as e:\n",
        "\t\t#raise e\n",
        "\t\tprint('')\n",
        "for item in soup.select('[data-lid]'): \n",
        "  try: \n",
        "    print('----------------------------------------') \n",
        "    #print(item) \n",
        "    print(item.select('h3')[0].get_text()) \n",
        "    print(item.select('a')[0]['href']) \n",
        "    print(item.select('.gs_rs')[0].get_text()) \n",
        "    print('----------------------------------------') \n",
        "  except Exception as e:\n",
        "     print('')"
      ]
    },
    {
      "cell_type": "markdown",
      "metadata": {
        "id": "NTs5pCqp3goz"
      },
      "source": [
        "Question 4 (10 points): Write python code to collect 1000 posts from Twitter, or Facebook, or Instagram. You can either use hashtags, keywords, user_name, user_id, or other information to collect the data. \n",
        "\n",
        "The following information needs to be collected:\n",
        "\n",
        "(1) User_name\n",
        "\n",
        "(2) Posted time\n",
        "\n",
        "(3) Text "
      ]
    },
    {
      "cell_type": "code",
      "execution_count": 10,
      "metadata": {
        "colab": {
          "base_uri": "https://localhost:8080/"
        },
        "id": "GHl3Av533go0",
        "outputId": "e06c5336-5fe9-4b3c-eb76-7c386cad832d"
      },
      "outputs": [
        {
          "output_type": "stream",
          "name": "stdout",
          "text": [
            "Looking in indexes: https://pypi.org/simple, https://us-python.pkg.dev/colab-wheels/public/simple/\n",
            "Requirement already satisfied: tweepy in /usr/local/lib/python3.8/dist-packages (3.10.0)\n",
            "Requirement already satisfied: six>=1.10.0 in /usr/local/lib/python3.8/dist-packages (from tweepy) (1.15.0)\n",
            "Requirement already satisfied: requests[socks]>=2.11.1 in /usr/local/lib/python3.8/dist-packages (from tweepy) (2.25.1)\n",
            "Requirement already satisfied: requests-oauthlib>=0.7.0 in /usr/local/lib/python3.8/dist-packages (from tweepy) (1.3.1)\n",
            "Requirement already satisfied: oauthlib>=3.0.0 in /usr/local/lib/python3.8/dist-packages (from requests-oauthlib>=0.7.0->tweepy) (3.2.2)\n",
            "Requirement already satisfied: urllib3<1.27,>=1.21.1 in /usr/local/lib/python3.8/dist-packages (from requests[socks]>=2.11.1->tweepy) (1.24.3)\n",
            "Requirement already satisfied: chardet<5,>=3.0.2 in /usr/local/lib/python3.8/dist-packages (from requests[socks]>=2.11.1->tweepy) (4.0.0)\n",
            "Requirement already satisfied: idna<3,>=2.5 in /usr/local/lib/python3.8/dist-packages (from requests[socks]>=2.11.1->tweepy) (2.10)\n",
            "Requirement already satisfied: certifi>=2017.4.17 in /usr/local/lib/python3.8/dist-packages (from requests[socks]>=2.11.1->tweepy) (2022.12.7)\n",
            "Requirement already satisfied: PySocks!=1.5.7,>=1.5.6 in /usr/local/lib/python3.8/dist-packages (from requests[socks]>=2.11.1->tweepy) (1.7.1)\n"
          ]
        }
      ],
      "source": [
        "!pip install tweepy\n",
        "import pandas as pd\n",
        "import tweepy as tp\n",
        "import pandas as pd\n",
        "import csv\n",
        "import re \n",
        "import string\n",
        "\n",
        "consumer_key= '2Em7SxlX9jPMfL4x97r3zMO0x'\n",
        "consumer_secret= 'sVbJzekKuiAgq83Y7gCwNVbSowqQokGVzWexKHl2cXIPceWtSd'\n",
        "access_key= '1439767876962029572-uUMt8oWRyzj9ilE5zk4uYbL93sCMPT'\n",
        "access_secret= 'oydIGymn9bS767FVEMawE9GyGAnMmBJfaY2XXKmHnmliF'\n",
        "\n",
        "auth = tp.OAuthHandler(consumer_key, consumer_secret)\n",
        "auth.set_access_token(access_key, access_secret)\n",
        "\n",
        "api = tp.API(auth,wait_on_rate_limit=True)\n",
        " \n",
        "csvFile = open('file-name', 'a')\n",
        "csvWriter = csv.writer(csvFile)\n",
        " \n",
        "search_words = \"#Steve jobs\"\n",
        "new_search = search_words + \" -filter:posts\"\n",
        "csvWriter.writerow([\"created at\",\"Text\",\"User\",\"Location\"])\n",
        "for tweet in tp.Cursor(api.search,q=new_search,count=100,\n",
        "                           lang=\"en\",\n",
        "                           since_id=0).items():\n",
        "    \n",
        "    csvWriter.writerow([tweet.created_at, tweet.text.encode('utf-8'),tweet.user.screen_name.encode('utf-8'), tweet.user.location.encode('utf-8')])"
      ]
    }
  ],
  "metadata": {
    "kernelspec": {
      "display_name": "Python 3 (ipykernel)",
      "language": "python",
      "name": "python3"
    },
    "language_info": {
      "codemirror_mode": {
        "name": "ipython",
        "version": 3
      },
      "file_extension": ".py",
      "mimetype": "text/x-python",
      "name": "python",
      "nbconvert_exporter": "python",
      "pygments_lexer": "ipython3",
      "version": "3.9.12"
    },
    "colab": {
      "provenance": [],
      "include_colab_link": true
    }
  },
  "nbformat": 4,
  "nbformat_minor": 0
}